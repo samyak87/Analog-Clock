{
  "nbformat": 4,
  "nbformat_minor": 0,
  "metadata": {
    "colab": {
      "provenance": [],
      "authorship_tag": "ABX9TyPq7DqgpZPImWr+5sQW1IKv",
      "include_colab_link": true
    },
    "kernelspec": {
      "name": "python3",
      "display_name": "Python 3"
    },
    "language_info": {
      "name": "python"
    }
  },
  "cells": [
    {
      "cell_type": "markdown",
      "metadata": {
        "id": "view-in-github",
        "colab_type": "text"
      },
      "source": [
        "<a href=\"https://colab.research.google.com/github/samyak87/Analog-Clock/blob/main/T_2.ipynb\" target=\"_parent\"><img src=\"https://colab.research.google.com/assets/colab-badge.svg\" alt=\"Open In Colab\"/></a>"
      ]
    },
    {
      "cell_type": "code",
      "execution_count": null,
      "metadata": {
        "colab": {
          "base_uri": "https://localhost:8080/"
        },
        "id": "Gb-GQfCtmnyA",
        "outputId": "84c07bfb-2332-4e4b-a7bf-fc6daa38b016"
      },
      "outputs": [
        {
          "output_type": "stream",
          "name": "stdout",
          "text": [
            "Samyak\n"
          ]
        }
      ],
      "source": [
        "str = \"samyak jain\"\n"
      ]
    },
    {
      "cell_type": "code",
      "source": [
        "print(str.capitalize())"
      ],
      "metadata": {
        "colab": {
          "base_uri": "https://localhost:8080/"
        },
        "id": "QHBP2LBCn4dJ",
        "outputId": "8e43c79a-44d6-4d3d-c88d-50aa8625fbcc"
      },
      "execution_count": null,
      "outputs": [
        {
          "output_type": "stream",
          "name": "stdout",
          "text": [
            "Samyak\n"
          ]
        }
      ]
    },
    {
      "cell_type": "code",
      "source": [
        "s=str.upper()\n",
        "print(s)"
      ],
      "metadata": {
        "colab": {
          "base_uri": "https://localhost:8080/"
        },
        "id": "aVGIHiwOn7JP",
        "outputId": "3852ee87-0d93-4ed1-9525-09b171d973ff"
      },
      "execution_count": null,
      "outputs": [
        {
          "output_type": "stream",
          "name": "stdout",
          "text": [
            "SAMYAK\n"
          ]
        }
      ]
    },
    {
      "cell_type": "code",
      "source": [
        "print(str.isalnum())"
      ],
      "metadata": {
        "colab": {
          "base_uri": "https://localhost:8080/"
        },
        "id": "t3h-UwXtoSHv",
        "outputId": "b132981d-2bdb-431e-8642-ad6f6f80be7e"
      },
      "execution_count": null,
      "outputs": [
        {
          "output_type": "stream",
          "name": "stdout",
          "text": [
            "True\n"
          ]
        }
      ]
    },
    {
      "cell_type": "code",
      "source": [
        "print(str.isupper())"
      ],
      "metadata": {
        "colab": {
          "base_uri": "https://localhost:8080/"
        },
        "id": "3xt_37RGojPZ",
        "outputId": "26045ef6-eb6d-49ed-a81d-ac282fb87439"
      },
      "execution_count": null,
      "outputs": [
        {
          "output_type": "stream",
          "name": "stdout",
          "text": [
            "False\n"
          ]
        }
      ]
    },
    {
      "cell_type": "markdown",
      "source": [
        "-> we can google all functions"
      ],
      "metadata": {
        "id": "SD3Gx34iooRg"
      }
    },
    {
      "cell_type": "code",
      "source": [
        "list_example = []\n",
        "type(list_example)"
      ],
      "metadata": {
        "colab": {
          "base_uri": "https://localhost:8080/"
        },
        "id": "qC_09B7AosIP",
        "outputId": "4a907c1d-a7e1-415e-8dea-a9f95a54be65"
      },
      "execution_count": null,
      "outputs": [
        {
          "output_type": "execute_result",
          "data": {
            "text/plain": [
              "list"
            ]
          },
          "metadata": {},
          "execution_count": 14
        }
      ]
    },
    {
      "cell_type": "code",
      "source": [
        "list_example2= list()\n",
        "type(list_example2)"
      ],
      "metadata": {
        "colab": {
          "base_uri": "https://localhost:8080/"
        },
        "id": "OUk6p8frpVG_",
        "outputId": "746fff7c-0713-4f99-8c90-b994f02e9ba8"
      },
      "execution_count": null,
      "outputs": [
        {
          "output_type": "execute_result",
          "data": {
            "text/plain": [
              "list"
            ]
          },
          "metadata": {},
          "execution_count": 16
        }
      ]
    },
    {
      "cell_type": "code",
      "source": [
        "list_example2.append('3')\n"
      ],
      "metadata": {
        "id": "eUDloDYepcwH"
      },
      "execution_count": null,
      "outputs": []
    },
    {
      "cell_type": "code",
      "source": [
        "print(list_example2)"
      ],
      "metadata": {
        "colab": {
          "base_uri": "https://localhost:8080/"
        },
        "id": "OS5DZyljpuiA",
        "outputId": "aaeb6a2a-83f8-4080-cb4b-0da7c5a91668"
      },
      "execution_count": null,
      "outputs": [
        {
          "output_type": "stream",
          "name": "stdout",
          "text": [
            "['2', '2', '3']\n"
          ]
        }
      ]
    },
    {
      "cell_type": "code",
      "source": [
        "list_example2.insert(1,'samyak')"
      ],
      "metadata": {
        "id": "-o3mb6BGp3Tw"
      },
      "execution_count": null,
      "outputs": []
    },
    {
      "cell_type": "code",
      "source": [
        "print(list_example2)"
      ],
      "metadata": {
        "colab": {
          "base_uri": "https://localhost:8080/"
        },
        "id": "V_Qg3sFep7r3",
        "outputId": "1990a05f-463f-4ab3-8d15-6f85a54f511a"
      },
      "execution_count": null,
      "outputs": [
        {
          "output_type": "stream",
          "name": "stdout",
          "text": [
            "['2', 'samyak', '2', '3']\n"
          ]
        }
      ]
    },
    {
      "cell_type": "code",
      "source": [
        "list_example2[2:]"
      ],
      "metadata": {
        "colab": {
          "base_uri": "https://localhost:8080/"
        },
        "id": "X4xWBESsqL3w",
        "outputId": "c9cbeba5-174b-4649-9634-6944cb2ad6f9"
      },
      "execution_count": null,
      "outputs": [
        {
          "output_type": "execute_result",
          "data": {
            "text/plain": [
              "['2', '3']"
            ]
          },
          "metadata": {},
          "execution_count": 25
        }
      ]
    },
    {
      "cell_type": "markdown",
      "source": [
        "not done all, but there are many in-built functions"
      ],
      "metadata": {
        "id": "EQGqCVzhquVn"
      }
    }
  ]
}